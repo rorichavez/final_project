{
 "cells": [
  {
   "cell_type": "markdown",
   "id": "2a2b605d-960c-4ff5-bba7-5100defaed2e",
   "metadata": {},
   "source": [
    "# INSTALL & IMPORTS"
   ]
  },
  {
   "cell_type": "code",
   "execution_count": 1,
   "id": "05f515bd-351a-44a0-acca-8f9582d44167",
   "metadata": {},
   "outputs": [],
   "source": [
    "#pip install selenium -q\n",
    "#pip install requests -q\n",
    "# pip install bs4 -q "
   ]
  },
  {
   "cell_type": "code",
   "execution_count": 1,
   "id": "0dcc52b6-20c1-4a17-b3d8-4178ce23002e",
   "metadata": {},
   "outputs": [],
   "source": [
    "import requests\n",
    "from bs4 import BeautifulSoup\n",
    "import pandas as pd\n",
    "import re\n",
    "from selenium import webdriver\n",
    "from selenium.webdriver.common.by import By\n",
    "from selenium.webdriver.common.keys import Keys\n",
    "from selenium.webdriver.support.ui import WebDriverWait\n",
    "from selenium.webdriver.support import expected_conditions as EC\n",
    "import time"
   ]
  },
  {
   "cell_type": "markdown",
   "id": "ac909c6b-3c42-42f5-9d5e-c811af43d7b5",
   "metadata": {
    "jp-MarkdownHeadingCollapsed": true
   },
   "source": [
    "# TESTING"
   ]
  },
  {
   "cell_type": "code",
   "execution_count": 42,
   "id": "b3eed9dd-61c4-4844-87c4-642cc577abe4",
   "metadata": {},
   "outputs": [],
   "source": [
    "# Inicializar WebDriver\n",
    "driver = webdriver.Chrome()\n",
    "\n",
    "# Abrir la página de Bumble\n",
    "driver.get(\"https://fr1.bumble.com/app\")"
   ]
  },
  {
   "cell_type": "code",
   "execution_count": 81,
   "id": "64411959-b361-49db-89ec-6acdae13b808",
   "metadata": {},
   "outputs": [
    {
     "name": "stdout",
     "output_type": "stream",
     "text": [
      "Joan , 30 ['174 cm', 'Active', 'Aries', 'Graduate degree', 'Socially', 'Never', 'Man', 'Something casual', 'Open to kids', 'Agnostic'] Barcelona Buscant còmplice per tast de cerveses\n",
      "\n",
      "That's what she said Advocat Universitat Pompeu Fabra 2015\n"
     ]
    }
   ],
   "source": [
    "page_source = driver.page_source\n",
    "profile = BeautifulSoup(page_source, 'html.parser')\n",
    "name = profile.find(\"span\", class_='encounters-story-profile__name').text\n",
    "age = profile.find(\"span\", class_= \"encounters-story-profile__age\").text\n",
    "about = profile.find(\"ul\", class_= \"encounters-story-about__badges\").text if profile.find(\"ul\", class_= \"encounters-story-about__badges\") else \"\"\n",
    "if about:\n",
    "    about = re.split('(?=[A-Z])', about)\n",
    "\n",
    "location = profile.find(\"span\", class_=\"header-2 text-color-black\").text\n",
    "more_info = profile.find(\"p\", class_=\"encounters-story-about__text\").text\n",
    "job = profile.find(\"p\", class_=\"encounters-story-profile__occupation\").text\n",
    "education = profile.find(\"p\", class_=\"encounters-story-profile__education\").text\n",
    "\n",
    "\n",
    "print(name, age, about, location, more_info, job, education)"
   ]
  },
  {
   "cell_type": "code",
   "execution_count": 83,
   "id": "d60f0b2e-d914-4cce-874f-ca819a1c3846",
   "metadata": {},
   "outputs": [
    {
     "data": {
      "text/plain": [
       "'Universitat Pompeu Fabra 2015'"
      ]
     },
     "execution_count": 83,
     "metadata": {},
     "output_type": "execute_result"
    }
   ],
   "source": [
    "education"
   ]
  },
  {
   "cell_type": "code",
   "execution_count": 54,
   "id": "58851a81-b39c-4a93-925f-6be443fba9c2",
   "metadata": {},
   "outputs": [
    {
     "name": "stdout",
     "output_type": "stream",
     "text": [
      "Botón clickeado con éxito\n"
     ]
    }
   ],
   "source": [
    "# Esperar a que el botón esté presente y sea clickeable\n",
    "try:\n",
    "    button = WebDriverWait(driver, 10).until(\n",
    "        EC.element_to_be_clickable((By.CSS_SELECTOR, '.encounters-action__icon [data-qa-icon-name=\"floating-action-no\"]'))\n",
    "    )\n",
    "    button.click()\n",
    "    print(\"Botón clickeado con éxito\")\n",
    "except Exception as e:\n",
    "    print(\"No se pudo clickear el botón:\", e)\n"
   ]
  },
  {
   "cell_type": "markdown",
   "id": "4dcba994-ece4-497f-9fe3-e81578c3e345",
   "metadata": {},
   "source": [
    "# FUNCTION TO TAKE ALL INFO"
   ]
  },
  {
   "cell_type": "code",
   "execution_count": 2,
   "id": "933cc3bc-35d4-428f-ab09-8a276a7d5f39",
   "metadata": {},
   "outputs": [],
   "source": [
    "# Inicializar WebDriver\n",
    "driver = webdriver.Chrome()\n",
    "\n",
    "# Abrir la página de Bumble\n",
    "driver.get(\"https://fr1.bumble.com/app\")"
   ]
  },
  {
   "cell_type": "code",
   "execution_count": 7,
   "id": "a0a275b7-684c-4225-8490-5a0b9fc1e33b",
   "metadata": {},
   "outputs": [],
   "source": [
    "def extract_profile_info():\n",
    "\n",
    "    profiles = []\n",
    "    prevJob = \"\"\n",
    "    prevStories = \"\"\n",
    "    prevEducation = \"\"\n",
    "    \n",
    "    for i in range(500):\n",
    "        \n",
    "        # Obtener el contenido de la página actual\n",
    "        page_source = driver.page_source\n",
    "    \n",
    "        # Analizar el contenido de la página con BeautifulSoup\n",
    "        profile = BeautifulSoup(page_source, 'html.parser')\n",
    "    \n",
    "    \n",
    "        # Realizar un diccionario para que la información se vaya guardando.\n",
    "        profiles_dict = {}\n",
    "    \n",
    "        # Esperar 15 segundos antes de extraer la información\n",
    "        time.sleep(5)\n",
    "    \n",
    "        # Extraer información del perfil\n",
    "        name = profile.find(\"span\", class_='encounters-story-profile__name')\n",
    "        profiles_dict[\"name\"] = name.text if name else None\n",
    "        \n",
    "        age = profile.find(\"span\", class_= \"encounters-story-profile__age\")\n",
    "        profiles_dict[\"age\"] = age.text.strip(\",\")  if age else None\n",
    "\n",
    "        \n",
    "        location = profile.find(\"span\", class_=\"header-2 text-color-black\")\n",
    "        profiles_dict[\"location\"] = location.text if location else \"\"\n",
    "    \n",
    "\n",
    "        story_about = profile.find(\"p\", class_=\"encounters-story-about__text\")\n",
    "        profiles_dict[\"story_about\"] = story_about.text if story_about and story_about.text != prevStories else None\n",
    "        if story_about:\n",
    "            prevStories = story_about.text\n",
    "\n",
    "        \n",
    "        job = profile.find(\"p\", class_=\"encounters-story-profile__occupation\")\n",
    "        profiles_dict[\"job\"] = job.text if job and job.text != prevJob else None\n",
    "        if job:\n",
    "            prevJob = job.text\n",
    "    \n",
    "        education = profile.find(\"p\", class_=\"encounters-story-profile__education\")\n",
    "        profiles_dict[\"education\"] = education.text if education and education.text != prevEducation else None\n",
    "        if education:\n",
    "            prevEducation = education.text\n",
    "\n",
    "        # Encuentra todos los elementos div con la clase \"pill\"\n",
    "        about = profile.find_all(\"div\", class_=\"pill\")  \n",
    "\n",
    "        #categories_dict = {}\n",
    "        \n",
    "        for pill in about: # Pill como elemento de la lista\n",
    "            image_tag = pill.find(\"img\")\n",
    "            \n",
    "            if image_tag is not None: # Verificación de la existencia de una etiqueta de imagen\n",
    "                image_url = image_tag['src'] # Extracción de la URL de la imagen\n",
    "                text = pill.get_text(strip=True) # Extracción de texto del elemento pill \n",
    "                # strip=True se utiliza para eliminar espacios en blanco alrededor del texto\n",
    "                category = image_url.split('_')[-1].split('.')[0] # Extracción de la categoría de la imagen\n",
    "                if category is not None and category not in profiles_dict: \n",
    "                    # Verificación de la existencia de la categoría y actualización del diccionario\n",
    "                    # Asignación de valores None cuando no se encuentra una etiqueta de imagen\n",
    "                    profiles_dict[category] = text # Add to profiles\n",
    "            \n",
    "            else:\n",
    "                category = None\n",
    "                text = None\n",
    "                \n",
    "    \n",
    "\n",
    "        profiles.append(profiles_dict)\n",
    "    \n",
    "        try:\n",
    "            button = WebDriverWait(driver, 10).until(\n",
    "                EC.element_to_be_clickable((By.CSS_SELECTOR, '.encounters-action__icon [data-qa-icon-name=\"floating-action-no\"]'))\n",
    "            )\n",
    "            time.sleep(5)  # Añadir un temporizador adicional de 5 segundos\n",
    "            button.click()\n",
    "            print(\"Botón clickeado con éxito\")\n",
    "        except Exception as e:\n",
    "            print(\"No se pudo clickear el botón:\", e)\n",
    "            \n",
    "\n",
    "    return profiles"
   ]
  },
  {
   "cell_type": "code",
   "execution_count": null,
   "id": "56f345eb-9eb6-47a9-ab28-a5c594c312fa",
   "metadata": {
    "scrolled": true
   },
   "outputs": [
    {
     "name": "stdout",
     "output_type": "stream",
     "text": [
      "Botón clickeado con éxito\n",
      "Botón clickeado con éxito\n",
      "Botón clickeado con éxito\n",
      "Botón clickeado con éxito\n",
      "Botón clickeado con éxito\n",
      "Botón clickeado con éxito\n",
      "Botón clickeado con éxito\n",
      "Botón clickeado con éxito\n",
      "Botón clickeado con éxito\n",
      "Botón clickeado con éxito\n",
      "Botón clickeado con éxito\n",
      "Botón clickeado con éxito\n",
      "Botón clickeado con éxito\n",
      "Botón clickeado con éxito\n",
      "Botón clickeado con éxito\n",
      "Botón clickeado con éxito\n"
     ]
    }
   ],
   "source": [
    "profile_info = extract_profile_info() \n",
    "\n",
    "# Make a DataFrame from a dict. \n",
    "df = pd.DataFrame(profile_info)\n",
    "\n",
    "# Print DataFrame\n",
    "df"
   ]
  },
  {
   "cell_type": "code",
   "execution_count": null,
   "id": "61aab72f-cb6e-4edf-8b9d-6972eba9978f",
   "metadata": {},
   "outputs": [],
   "source": [
    "df.info()"
   ]
  },
  {
   "cell_type": "code",
   "execution_count": null,
   "id": "643e89c4-e7ef-48e0-b0c0-86cb5a3d4a94",
   "metadata": {},
   "outputs": [],
   "source": [
    "df.to_csv('man6.csv', index=False)"
   ]
  },
  {
   "cell_type": "code",
   "execution_count": null,
   "id": "af28f8ae-5396-4061-8dae-e50a35889bb4",
   "metadata": {},
   "outputs": [],
   "source": []
  }
 ],
 "metadata": {
  "kernelspec": {
   "display_name": "finalenv",
   "language": "python",
   "name": "finalenv"
  },
  "language_info": {
   "codemirror_mode": {
    "name": "ipython",
    "version": 3
   },
   "file_extension": ".py",
   "mimetype": "text/x-python",
   "name": "python",
   "nbconvert_exporter": "python",
   "pygments_lexer": "ipython3",
   "version": "3.11.7"
  }
 },
 "nbformat": 4,
 "nbformat_minor": 5
}
