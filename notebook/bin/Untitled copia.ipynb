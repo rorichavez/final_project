{
 "cells": [
  {
   "cell_type": "markdown",
   "id": "2a2b605d-960c-4ff5-bba7-5100defaed2e",
   "metadata": {
    "jp-MarkdownHeadingCollapsed": true
   },
   "source": [
    "# INSTALL & IMPORTS"
   ]
  },
  {
   "cell_type": "code",
   "execution_count": 12,
   "id": "05f515bd-351a-44a0-acca-8f9582d44167",
   "metadata": {},
   "outputs": [],
   "source": [
    "#pip install selenium -q\n",
    "#pip install requests -q\n",
    "# pip install bs4 -q "
   ]
  },
  {
   "cell_type": "code",
   "execution_count": 20,
   "id": "0dcc52b6-20c1-4a17-b3d8-4178ce23002e",
   "metadata": {},
   "outputs": [],
   "source": [
    "import requests\n",
    "from bs4 import BeautifulSoup\n",
    "import pandas as pd\n",
    "import re\n",
    "from selenium import webdriver\n",
    "from selenium.webdriver.common.by import By\n",
    "from selenium.webdriver.common.keys import Keys\n",
    "from selenium.webdriver.support.ui import WebDriverWait\n",
    "from selenium.webdriver.support import expected_conditions as EC\n",
    "import time"
   ]
  },
  {
   "cell_type": "markdown",
   "id": "ac909c6b-3c42-42f5-9d5e-c811af43d7b5",
   "metadata": {
    "jp-MarkdownHeadingCollapsed": true
   },
   "source": [
    "# TESTING"
   ]
  },
  {
   "cell_type": "code",
   "execution_count": 42,
   "id": "b3eed9dd-61c4-4844-87c4-642cc577abe4",
   "metadata": {},
   "outputs": [],
   "source": [
    "# Inicializar WebDriver\n",
    "driver = webdriver.Chrome()\n",
    "\n",
    "# Abrir la página de Bumble\n",
    "driver.get(\"https://fr1.bumble.com/app\")"
   ]
  },
  {
   "cell_type": "code",
   "execution_count": 81,
   "id": "64411959-b361-49db-89ec-6acdae13b808",
   "metadata": {},
   "outputs": [
    {
     "name": "stdout",
     "output_type": "stream",
     "text": [
      "Joan , 30 ['174 cm', 'Active', 'Aries', 'Graduate degree', 'Socially', 'Never', 'Man', 'Something casual', 'Open to kids', 'Agnostic'] Barcelona Buscant còmplice per tast de cerveses\n",
      "\n",
      "That's what she said Advocat Universitat Pompeu Fabra 2015\n"
     ]
    }
   ],
   "source": [
    "page_source = driver.page_source\n",
    "profile = BeautifulSoup(page_source, 'html.parser')\n",
    "name = profile.find(\"span\", class_='encounters-story-profile__name').text\n",
    "age = profile.find(\"span\", class_= \"encounters-story-profile__age\").text\n",
    "about = profile.find(\"ul\", class_= \"encounters-story-about__badges\").text if profile.find(\"ul\", class_= \"encounters-story-about__badges\") else \"\"\n",
    "if about:\n",
    "    about = re.split('(?=[A-Z])', about)\n",
    "\n",
    "location = profile.find(\"span\", class_=\"header-2 text-color-black\").text\n",
    "more_info = profile.find(\"p\", class_=\"encounters-story-about__text\").text\n",
    "job = profile.find(\"p\", class_=\"encounters-story-profile__occupation\").text\n",
    "education = profile.find(\"p\", class_=\"encounters-story-profile__education\").text\n",
    "\n",
    "\n",
    "print(name, age, about, location, more_info, job, education)"
   ]
  },
  {
   "cell_type": "code",
   "execution_count": 83,
   "id": "d60f0b2e-d914-4cce-874f-ca819a1c3846",
   "metadata": {},
   "outputs": [
    {
     "data": {
      "text/plain": [
       "'Universitat Pompeu Fabra 2015'"
      ]
     },
     "execution_count": 83,
     "metadata": {},
     "output_type": "execute_result"
    }
   ],
   "source": [
    "education"
   ]
  },
  {
   "cell_type": "code",
   "execution_count": 54,
   "id": "58851a81-b39c-4a93-925f-6be443fba9c2",
   "metadata": {},
   "outputs": [
    {
     "name": "stdout",
     "output_type": "stream",
     "text": [
      "Botón clickeado con éxito\n"
     ]
    }
   ],
   "source": [
    "# Esperar a que el botón esté presente y sea clickeable\n",
    "try:\n",
    "    button = WebDriverWait(driver, 10).until(\n",
    "        EC.element_to_be_clickable((By.CSS_SELECTOR, '.encounters-action__icon [data-qa-icon-name=\"floating-action-no\"]'))\n",
    "    )\n",
    "    button.click()\n",
    "    print(\"Botón clickeado con éxito\")\n",
    "except Exception as e:\n",
    "    print(\"No se pudo clickear el botón:\", e)\n"
   ]
  },
  {
   "cell_type": "markdown",
   "id": "4dcba994-ece4-497f-9fe3-e81578c3e345",
   "metadata": {},
   "source": [
    "# FUNCTION TO TAKE ALL INFO"
   ]
  },
  {
   "cell_type": "code",
   "execution_count": null,
   "id": "933cc3bc-35d4-428f-ab09-8a276a7d5f39",
   "metadata": {},
   "outputs": [],
   "source": [
    "# Inicializar WebDriver\n",
    "driver = webdriver.Chrome()\n",
    "\n",
    "# Abrir la página de Bumble\n",
    "driver.get(\"https://fr1.bumble.com/app\")"
   ]
  },
  {
   "cell_type": "code",
   "execution_count": 85,
   "id": "bf9e4224-7d5a-48cd-9462-6f8b41d34f35",
   "metadata": {},
   "outputs": [],
   "source": [
    "def extract_profile_info(profile):\n",
    "    \n",
    "    page_source = driver.page_source\n",
    "\n",
    "    profile = BeautifulSoup(page_source, 'html.parser')\n",
    "    \n",
    "    time.sleep(5)\n",
    "   \n",
    "    profiles_dict = {}\n",
    "    \n",
    "    profiles_dict[\"name\"] = profile.find(\"span\", class_='encounters-story-profile__name').text\n",
    "    profiles_dict[\"age\"] = profile.find(\"span\", class_= \"encounters-story-profile__age\").text\n",
    "    \n",
    "    about_text = profile.find(\"ul\", class_= \"encounters-story-about__badges\").text\n",
    "    about_categories = re.findall('[A-Z][^A-Z]*', about_text)\n",
    "    profiles_dict[\"about\"] = ','.join(about_categories)\n",
    "\n",
    "    profiles_dict[\"location\"] = profile.find(\"span\", class_=\"header-2 text-color-black\").text\n",
    "\n",
    "    profiles_dict[\"story_about\"] = profile.find(\"p\", class_=\"encounters-story-about__text\").text\n",
    "\n",
    "    profiles_dict[\"job\"] = profile.find(\"p\", class_=\"encounters-story-profile__occupation\").text\n",
    "\n",
    "    profiles_dict[\"education\"] = profile.find(\"p\", class_=\"encounters-story-profile__education\").text\n",
    "\n",
    "\n",
    "    # Esperar a que el botón esté presente y sea clickeable\n",
    "    try:\n",
    "        button = WebDriverWait(driver, 10).until(\n",
    "            EC.element_to_be_clickable((By.CSS_SELECTOR, '.encounters-action__icon [data-qa-icon-name=\"floating-action-no\"]'))\n",
    "        )\n",
    "        button.click()\n",
    "        print(\"Botón clickeado con éxito\")\n",
    "    except Exception as e:\n",
    "        print(\"No se pudo clickear el botón:\", e)\n",
    "\n",
    "    return profiles_dict"
   ]
  },
  {
   "cell_type": "code",
   "execution_count": 80,
   "id": "56f345eb-9eb6-47a9-ab28-a5c594c312fa",
   "metadata": {},
   "outputs": [
    {
     "name": "stdout",
     "output_type": "stream",
     "text": [
      "Botón clickeado con éxito\n",
      "Botón clickeado con éxito\n"
     ]
    },
    {
     "data": {
      "text/html": [
       "<div>\n",
       "<style scoped>\n",
       "    .dataframe tbody tr th:only-of-type {\n",
       "        vertical-align: middle;\n",
       "    }\n",
       "\n",
       "    .dataframe tbody tr th {\n",
       "        vertical-align: top;\n",
       "    }\n",
       "\n",
       "    .dataframe thead th {\n",
       "        text-align: right;\n",
       "    }\n",
       "</style>\n",
       "<table border=\"1\" class=\"dataframe\">\n",
       "  <thead>\n",
       "    <tr style=\"text-align: right;\">\n",
       "      <th></th>\n",
       "      <th>name</th>\n",
       "      <th>age</th>\n",
       "      <th>about</th>\n",
       "      <th>location</th>\n",
       "      <th>more_info</th>\n",
       "    </tr>\n",
       "  </thead>\n",
       "  <tbody>\n",
       "    <tr>\n",
       "      <th>0</th>\n",
       "      <td>Robert</td>\n",
       "      <td>, 37</td>\n",
       "      <td>Active,Gemini,Undergraduate degree,Never,Man,R...</td>\n",
       "      <td>Barcelona</td>\n",
       "      <td>Moved to Barcelona last year after being singl...</td>\n",
       "    </tr>\n",
       "    <tr>\n",
       "      <th>1</th>\n",
       "      <td>Marc</td>\n",
       "      <td>, 47</td>\n",
       "      <td>Active,Leo,Graduate degree,Socially,Never,Man,...</td>\n",
       "      <td>Martorell, Barcelona</td>\n",
       "      <td>Moved to Barcelona last year after being singl...</td>\n",
       "    </tr>\n",
       "  </tbody>\n",
       "</table>\n",
       "</div>"
      ],
      "text/plain": [
       "     name   age                                              about  \\\n",
       "0  Robert  , 37  Active,Gemini,Undergraduate degree,Never,Man,R...   \n",
       "1    Marc  , 47  Active,Leo,Graduate degree,Socially,Never,Man,...   \n",
       "\n",
       "               location                                          more_info  \n",
       "0             Barcelona  Moved to Barcelona last year after being singl...  \n",
       "1  Martorell, Barcelona  Moved to Barcelona last year after being singl...  "
      ]
     },
     "execution_count": 80,
     "metadata": {},
     "output_type": "execute_result"
    }
   ],
   "source": [
    "profile_info = [extract_profile_info(profile) for num in range(2)]\n",
    "\n",
    "# Make a DataFrame from a dict. \n",
    "df = pd.DataFrame(profile_info)\n",
    "\n",
    "# Print DataFrame\n",
    "df"
   ]
  },
  {
   "cell_type": "code",
   "execution_count": null,
   "id": "e10daac2-9da1-44c5-91ea-2b27869ff779",
   "metadata": {},
   "outputs": [],
   "source": []
  }
 ],
 "metadata": {
  "kernelspec": {
   "display_name": "finalenv",
   "language": "python",
   "name": "finalenv"
  },
  "language_info": {
   "codemirror_mode": {
    "name": "ipython",
    "version": 3
   },
   "file_extension": ".py",
   "mimetype": "text/x-python",
   "name": "python",
   "nbconvert_exporter": "python",
   "pygments_lexer": "ipython3",
   "version": "3.11.7"
  }
 },
 "nbformat": 4,
 "nbformat_minor": 5
}
