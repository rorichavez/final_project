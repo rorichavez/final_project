{
 "cells": [
  {
   "cell_type": "code",
   "execution_count": 11,
   "id": "16bb0e45-727d-4a7e-b1af-a83268d575fe",
   "metadata": {},
   "outputs": [],
   "source": [
    "import pandas as pd\n",
    "import numpy as np"
   ]
  },
  {
   "cell_type": "code",
   "execution_count": 134,
   "id": "c979dd0c-47d6-4b71-b251-3cb3ae1cdd71",
   "metadata": {},
   "outputs": [],
   "source": [
    "#pip install pandas openpyxl "
   ]
  },
  {
   "cell_type": "markdown",
   "id": "5963a0d2-c1cd-4d29-90c3-b9742aa2f8fe",
   "metadata": {},
   "source": [
    "**Import datasets**"
   ]
  },
  {
   "cell_type": "code",
   "execution_count": 221,
   "id": "d1001868-f24d-4c26-9c12-7196311656be",
   "metadata": {},
   "outputs": [],
   "source": [
    "df1 = pd.read_csv('/Users/roraimachavez/Downloads/7.IRONHACK/Projects/final_project/data/woman/df_final1.csv')\n",
    "df2 = pd.read_csv('/Users/roraimachavez/Downloads/7.IRONHACK/Projects/final_project/data/woman/df_final2.csv')\n",
    "df3 = pd.read_excel('/Users/roraimachavez/Downloads/7.IRONHACK/Projects/final_project/data/woman/df_final3.xlsx')\n",
    "df4 = pd.read_csv('/Users/roraimachavez/Downloads/7.IRONHACK/Projects/final_project/data/woman/df_final4.csv')\n",
    "df5 = pd.read_csv('/Users/roraimachavez/Downloads/7.IRONHACK/Projects/final_project/data/woman/df_final5.csv')\n",
    "df6 = pd.read_csv('/Users/roraimachavez/Downloads/7.IRONHACK/Projects/final_project/data/woman/df_final6.csv')\n",
    "df7 = pd.read_csv('/Users/roraimachavez/Downloads/7.IRONHACK/Projects/final_project/notebook/df_prueba.csv')\n"
   ]
  },
  {
   "cell_type": "code",
   "execution_count": 213,
   "id": "0ed6de97-b576-48a6-8244-ab0d8e0531ef",
   "metadata": {},
   "outputs": [],
   "source": [
    "df = pd.concat([df1, df2, df3, df4, df5, df6], ignore_index=True)"
   ]
  },
  {
   "cell_type": "code",
   "execution_count": 214,
   "id": "fc8b8261-f966-40dd-8418-9576d3066e75",
   "metadata": {},
   "outputs": [
    {
     "data": {
      "text/html": [
       "<div>\n",
       "<style scoped>\n",
       "    .dataframe tbody tr th:only-of-type {\n",
       "        vertical-align: middle;\n",
       "    }\n",
       "\n",
       "    .dataframe tbody tr th {\n",
       "        vertical-align: top;\n",
       "    }\n",
       "\n",
       "    .dataframe thead th {\n",
       "        text-align: right;\n",
       "    }\n",
       "</style>\n",
       "<table border=\"1\" class=\"dataframe\">\n",
       "  <thead>\n",
       "    <tr style=\"text-align: right;\">\n",
       "      <th></th>\n",
       "      <th>name</th>\n",
       "      <th>age</th>\n",
       "      <th>about</th>\n",
       "      <th>location</th>\n",
       "      <th>story_about</th>\n",
       "      <th>job</th>\n",
       "      <th>education</th>\n",
       "    </tr>\n",
       "  </thead>\n",
       "  <tbody>\n",
       "    <tr>\n",
       "      <th>0</th>\n",
       "      <td>Jan</td>\n",
       "      <td>, 32</td>\n",
       "      <td>Active,Graduate degree,Socially,Man,Don’t know...</td>\n",
       "      <td>Barcelona</td>\n",
       "      <td>@janll13</td>\n",
       "      <td>NaN</td>\n",
       "      <td>NaN</td>\n",
       "    </tr>\n",
       "    <tr>\n",
       "      <th>1</th>\n",
       "      <td>Alejandro</td>\n",
       "      <td>, 36</td>\n",
       "      <td>Active,Graduate degree,Never,Man,Don’t know yet</td>\n",
       "      <td>El Masnou, Barcelona</td>\n",
       "      <td>Aquí de vuelta , he perdido mi antigua cuenta ...</td>\n",
       "      <td>NaN</td>\n",
       "      <td>NaN</td>\n",
       "    </tr>\n",
       "    <tr>\n",
       "      <th>2</th>\n",
       "      <td>Víctor</td>\n",
       "      <td>, 23</td>\n",
       "      <td>Active,In college,Man,Don’t know yet</td>\n",
       "      <td>Barcelona</td>\n",
       "      <td>@vreiina_</td>\n",
       "      <td>Entrenador</td>\n",
       "      <td>NaN</td>\n",
       "    </tr>\n",
       "    <tr>\n",
       "      <th>3</th>\n",
       "      <td>Roger</td>\n",
       "      <td>, 27</td>\n",
       "      <td>Active,Scorpio,Graduate degree,Socially,Never,...</td>\n",
       "      <td>Barcelona</td>\n",
       "      <td>Mestre de primària.\\nT'he vist a Twitter.\\nO s...</td>\n",
       "      <td>NaN</td>\n",
       "      <td>NaN</td>\n",
       "    </tr>\n",
       "    <tr>\n",
       "      <th>4</th>\n",
       "      <td>Nico</td>\n",
       "      <td>, 33</td>\n",
       "      <td>Active,Rarely,Never</td>\n",
       "      <td>Barcelona</td>\n",
       "      <td>NaN</td>\n",
       "      <td>Médico</td>\n",
       "      <td>NaN</td>\n",
       "    </tr>\n",
       "  </tbody>\n",
       "</table>\n",
       "</div>"
      ],
      "text/plain": [
       "        name   age                                              about  \\\n",
       "0        Jan  , 32  Active,Graduate degree,Socially,Man,Don’t know...   \n",
       "1  Alejandro  , 36    Active,Graduate degree,Never,Man,Don’t know yet   \n",
       "2     Víctor  , 23               Active,In college,Man,Don’t know yet   \n",
       "3      Roger  , 27  Active,Scorpio,Graduate degree,Socially,Never,...   \n",
       "4       Nico  , 33                                Active,Rarely,Never   \n",
       "\n",
       "               location                                        story_about  \\\n",
       "0             Barcelona                                           @janll13   \n",
       "1  El Masnou, Barcelona  Aquí de vuelta , he perdido mi antigua cuenta ...   \n",
       "2             Barcelona                                          @vreiina_   \n",
       "3             Barcelona  Mestre de primària.\\nT'he vist a Twitter.\\nO s...   \n",
       "4             Barcelona                                                NaN   \n",
       "\n",
       "          job education  \n",
       "0         NaN       NaN  \n",
       "1         NaN       NaN  \n",
       "2  Entrenador       NaN  \n",
       "3         NaN       NaN  \n",
       "4      Médico       NaN  "
      ]
     },
     "execution_count": 214,
     "metadata": {},
     "output_type": "execute_result"
    }
   ],
   "source": [
    "df.head()"
   ]
  },
  {
   "cell_type": "code",
   "execution_count": 215,
   "id": "7510a171-17df-4126-89c1-a2c42f1846b3",
   "metadata": {},
   "outputs": [
    {
     "name": "stdout",
     "output_type": "stream",
     "text": [
      "<class 'pandas.core.frame.DataFrame'>\n",
      "RangeIndex: 599 entries, 0 to 598\n",
      "Data columns (total 7 columns):\n",
      " #   Column       Non-Null Count  Dtype \n",
      "---  ------       --------------  ----- \n",
      " 0   name         599 non-null    object\n",
      " 1   age          599 non-null    object\n",
      " 2   about        599 non-null    object\n",
      " 3   location     590 non-null    object\n",
      " 4   story_about  456 non-null    object\n",
      " 5   job          297 non-null    object\n",
      " 6   education    183 non-null    object\n",
      "dtypes: object(7)\n",
      "memory usage: 32.9+ KB\n"
     ]
    }
   ],
   "source": [
    "df.info()"
   ]
  },
  {
   "cell_type": "markdown",
   "id": "418335c1-cf9a-4339-aa83-78ad67aa65ce",
   "metadata": {},
   "source": [
    "Edit column age and remove de \",\""
   ]
  },
  {
   "cell_type": "code",
   "execution_count": 216,
   "id": "a89dab6c-6200-429a-9d5b-d0340c04b806",
   "metadata": {},
   "outputs": [],
   "source": [
    "# Eliminar la coma delante de los valores\n",
    "df['age'] = df['age'].str.replace(',', '')\n",
    "\n",
    "# Convertir los valores a números enteros\n",
    "df['age'] = df['age'].astype(int)"
   ]
  },
  {
   "cell_type": "markdown",
   "id": "9d66f42f-c939-4391-9da6-2f8315d6997b",
   "metadata": {},
   "source": [
    "Separed per column the categories of the column about "
   ]
  },
  {
   "cell_type": "code",
   "execution_count": 223,
   "id": "2d907daa-7262-4a7e-80a6-6cb993a6b5a4",
   "metadata": {},
   "outputs": [
    {
     "data": {
      "text/html": [
       "<div>\n",
       "<style scoped>\n",
       "    .dataframe tbody tr th:only-of-type {\n",
       "        vertical-align: middle;\n",
       "    }\n",
       "\n",
       "    .dataframe tbody tr th {\n",
       "        vertical-align: top;\n",
       "    }\n",
       "\n",
       "    .dataframe thead th {\n",
       "        text-align: right;\n",
       "    }\n",
       "</style>\n",
       "<table border=\"1\" class=\"dataframe\">\n",
       "  <thead>\n",
       "    <tr style=\"text-align: right;\">\n",
       "      <th></th>\n",
       "      <th>name</th>\n",
       "      <th>age</th>\n",
       "      <th>categories</th>\n",
       "      <th>location</th>\n",
       "      <th>story_about</th>\n",
       "      <th>job</th>\n",
       "      <th>education</th>\n",
       "    </tr>\n",
       "  </thead>\n",
       "  <tbody>\n",
       "    <tr>\n",
       "      <th>0</th>\n",
       "      <td>June</td>\n",
       "      <td>, 39</td>\n",
       "      <td>[{'heightv2': '178 cm'}, {'exercisev2': 'Activ...</td>\n",
       "      <td>Barcelona</td>\n",
       "      <td>28 May-4 June 2024 in Barcelona 🇪🇸\\nLooking fo...</td>\n",
       "      <td>NaN</td>\n",
       "      <td>NaN</td>\n",
       "    </tr>\n",
       "    <tr>\n",
       "      <th>1</th>\n",
       "      <td>Agus</td>\n",
       "      <td>, 25</td>\n",
       "      <td>[{'heightv2': '191 cm'}, {'drinkingv2': 'Socia...</td>\n",
       "      <td>Barcelona</td>\n",
       "      <td>ver la peli correcta</td>\n",
       "      <td>NaN</td>\n",
       "      <td>NaN</td>\n",
       "    </tr>\n",
       "  </tbody>\n",
       "</table>\n",
       "</div>"
      ],
      "text/plain": [
       "   name   age                                         categories   location  \\\n",
       "0  June  , 39  [{'heightv2': '178 cm'}, {'exercisev2': 'Activ...  Barcelona   \n",
       "1  Agus  , 25  [{'heightv2': '191 cm'}, {'drinkingv2': 'Socia...  Barcelona   \n",
       "\n",
       "                                         story_about  job  education  \n",
       "0  28 May-4 June 2024 in Barcelona 🇪🇸\\nLooking fo...  NaN        NaN  \n",
       "1                               ver la peli correcta  NaN        NaN  "
      ]
     },
     "execution_count": 223,
     "metadata": {},
     "output_type": "execute_result"
    }
   ],
   "source": [
    "df7.head()"
   ]
  },
  {
   "cell_type": "code",
   "execution_count": 224,
   "id": "f16754c7-accf-462d-9e7e-d3f94b9605b7",
   "metadata": {},
   "outputs": [],
   "source": [
    "categories = { \n",
    "    \"work_out\" : ['Active', 'Sometimes', 'Almost Never'],\n",
    "    \"zodiac_sign\" : ['Aries', 'Taurus', 'Gemini', 'Cancer', 'Leo', 'Virgo', 'Libra', 'Scorpio', 'Sagittarius', 'Capricorn', 'Aquarius', 'Pisces'],\n",
    "    \"education_ca\" : ['High school', 'Trade/tech school', 'In college', 'Undergraduate degree', 'In grad school', 'Graduate degree'],\n",
    "    \"drink\" : ['Frequently', 'Socially', 'Rarely', 'Never', 'Sober'],\n",
    "    \"smoke\" : ['Socially', 'Never', 'Regularly'],\n",
    "    \"looking_for\" : ['Relationship', 'Something casual', 'Don’t know yet', 'Marriage'],\n",
    "    \"children\" : ['Want someday', 'Don’t want', 'Have and want more', 'Have and don’t want more', 'Not sure yet', 'Have kids', 'Open to kids'],\n",
    "    \"political_leaning\" : ['Apolitical', 'Moderate', 'Left', 'Right'],\n",
    "    \"religion\" : ['Agnostic', 'Atheist', 'Buddhist', 'Catholic', 'Christian', 'Hindu', 'Jain', 'Jewish', 'Mormon', 'Latter-day Saint', 'Muslim', 'Zoroastrian', 'Sikh', 'Spiritual', 'Other'],\n",
    "    \"gender\" : ['Woman', 'Man'],\n",
    "}"
   ]
  },
  {
   "cell_type": "code",
   "execution_count": 225,
   "id": "90c99412-87d3-4bc7-ba98-ecca7ac9f846",
   "metadata": {},
   "outputs": [],
   "source": [
    "# Dictionary to store used categories\n",
    "used_categories = {key: set() for key in categories.keys()}\n",
    "\n",
    "def categorie(x, key):\n",
    "    global used_categories\n",
    "    for value in categories[key]:\n",
    "        if value in x and (value not in used_categories.values() or key in used_categories and value in used_categories[key]):\n",
    "            used_categories[key].add(value)\n",
    "            return value\n",
    "    return np.nan\n"
   ]
  },
  {
   "cell_type": "code",
   "execution_count": 226,
   "id": "d4365d49-9fc5-44c4-8ad8-8a08f111e5a3",
   "metadata": {},
   "outputs": [],
   "source": [
    "def categorie(x, key):\n",
    "    for values in categories[key]:\n",
    "            if values in x:\n",
    "                return values\n",
    "    return np.nan"
   ]
  },
  {
   "cell_type": "code",
   "execution_count": 219,
   "id": "be909c30-ae92-41fa-8b43-6118b1f36664",
   "metadata": {},
   "outputs": [],
   "source": [
    "for key in categories.keys():\n",
    "    df[key] = df[\"about\"].apply(lambda x: categorie(x, key))"
   ]
  },
  {
   "cell_type": "code",
   "execution_count": 227,
   "id": "8dfb1d7d-41f6-400d-8481-5e4bdaa101ee",
   "metadata": {},
   "outputs": [],
   "source": [
    "for key in categories.keys():\n",
    "    df7[key] = df7[\"categories\"].apply(lambda x: categorie(x, key))"
   ]
  },
  {
   "cell_type": "code",
   "execution_count": 228,
   "id": "bb29bc9f-1aa4-4542-b915-5d63a30b9ebe",
   "metadata": {},
   "outputs": [
    {
     "data": {
      "text/html": [
       "<div>\n",
       "<style scoped>\n",
       "    .dataframe tbody tr th:only-of-type {\n",
       "        vertical-align: middle;\n",
       "    }\n",
       "\n",
       "    .dataframe tbody tr th {\n",
       "        vertical-align: top;\n",
       "    }\n",
       "\n",
       "    .dataframe thead th {\n",
       "        text-align: right;\n",
       "    }\n",
       "</style>\n",
       "<table border=\"1\" class=\"dataframe\">\n",
       "  <thead>\n",
       "    <tr style=\"text-align: right;\">\n",
       "      <th></th>\n",
       "      <th>name</th>\n",
       "      <th>age</th>\n",
       "      <th>categories</th>\n",
       "      <th>location</th>\n",
       "      <th>story_about</th>\n",
       "      <th>job</th>\n",
       "      <th>education</th>\n",
       "      <th>work_out</th>\n",
       "      <th>zodiac_sign</th>\n",
       "      <th>education_ca</th>\n",
       "      <th>drink</th>\n",
       "      <th>smoke</th>\n",
       "      <th>looking_for</th>\n",
       "      <th>children</th>\n",
       "      <th>political_leaning</th>\n",
       "      <th>religion</th>\n",
       "      <th>gender</th>\n",
       "    </tr>\n",
       "  </thead>\n",
       "  <tbody>\n",
       "    <tr>\n",
       "      <th>0</th>\n",
       "      <td>June</td>\n",
       "      <td>, 39</td>\n",
       "      <td>[{'heightv2': '178 cm'}, {'exercisev2': 'Activ...</td>\n",
       "      <td>Barcelona</td>\n",
       "      <td>28 May-4 June 2024 in Barcelona 🇪🇸\\nLooking fo...</td>\n",
       "      <td>NaN</td>\n",
       "      <td>NaN</td>\n",
       "      <td>Active</td>\n",
       "      <td>Capricorn</td>\n",
       "      <td>In college</td>\n",
       "      <td>Socially</td>\n",
       "      <td>Socially</td>\n",
       "      <td>Something casual</td>\n",
       "      <td>Don’t want</td>\n",
       "      <td>Moderate</td>\n",
       "      <td>Other</td>\n",
       "      <td>Man</td>\n",
       "    </tr>\n",
       "    <tr>\n",
       "      <th>1</th>\n",
       "      <td>Agus</td>\n",
       "      <td>, 25</td>\n",
       "      <td>[{'heightv2': '191 cm'}, {'drinkingv2': 'Socia...</td>\n",
       "      <td>Barcelona</td>\n",
       "      <td>ver la peli correcta</td>\n",
       "      <td>NaN</td>\n",
       "      <td>NaN</td>\n",
       "      <td>Active</td>\n",
       "      <td>Capricorn</td>\n",
       "      <td>In college</td>\n",
       "      <td>Socially</td>\n",
       "      <td>Socially</td>\n",
       "      <td>Something casual</td>\n",
       "      <td>Don’t want</td>\n",
       "      <td>Moderate</td>\n",
       "      <td>Other</td>\n",
       "      <td>Man</td>\n",
       "    </tr>\n",
       "  </tbody>\n",
       "</table>\n",
       "</div>"
      ],
      "text/plain": [
       "   name   age                                         categories   location  \\\n",
       "0  June  , 39  [{'heightv2': '178 cm'}, {'exercisev2': 'Activ...  Barcelona   \n",
       "1  Agus  , 25  [{'heightv2': '191 cm'}, {'drinkingv2': 'Socia...  Barcelona   \n",
       "\n",
       "                                         story_about  job  education work_out  \\\n",
       "0  28 May-4 June 2024 in Barcelona 🇪🇸\\nLooking fo...  NaN        NaN   Active   \n",
       "1                               ver la peli correcta  NaN        NaN   Active   \n",
       "\n",
       "  zodiac_sign education_ca     drink     smoke       looking_for    children  \\\n",
       "0   Capricorn   In college  Socially  Socially  Something casual  Don’t want   \n",
       "1   Capricorn   In college  Socially  Socially  Something casual  Don’t want   \n",
       "\n",
       "  political_leaning religion gender  \n",
       "0          Moderate    Other    Man  \n",
       "1          Moderate    Other    Man  "
      ]
     },
     "execution_count": 228,
     "metadata": {},
     "output_type": "execute_result"
    }
   ],
   "source": [
    "df7.head()"
   ]
  },
  {
   "cell_type": "code",
   "execution_count": 230,
   "id": "75704aa4-de23-4f09-a0d8-5aa96cb55008",
   "metadata": {},
   "outputs": [
    {
     "data": {
      "text/plain": [
       "categories\n",
       "[{'heightv2': '178 cm'}, {'exercisev2': 'Active'}, {'starSignv2': 'Capricorn'}, {'educationv2': 'In college'}, {'drinkingv2': 'Rarely'}, {'smokingv2': 'Socially'}, {'genderv2': 'Man'}, {'intentionsv2': 'Something casual'}, {'familyPlansv2': 'Don’t want'}, {'religionv2': 'Other'}, {'Politicsv2': 'Moderate'}]                                                                                                                                           1\n",
       "[{'heightv2': '191 cm'}, {'drinkingv2': 'Socially'}, {'smokingv2': 'Never'}, {'genderv2': 'Man'}, {'intentionsv2': 'Something casual'}, {'heightv2': '178 cm'}, {'exercisev2': 'Active'}, {'starSignv2': 'Capricorn'}, {'educationv2': 'In college'}, {'drinkingv2': 'Rarely'}, {'smokingv2': 'Socially'}, {'genderv2': 'Man'}, {'intentionsv2': 'Something casual'}, {'familyPlansv2': 'Don’t want'}, {'religionv2': 'Other'}, {'Politicsv2': 'Moderate'}]    1\n",
       "Name: count, dtype: int64"
      ]
     },
     "execution_count": 230,
     "metadata": {},
     "output_type": "execute_result"
    }
   ],
   "source": [
    "df7[\"categories\"].value_counts()"
   ]
  },
  {
   "cell_type": "markdown",
   "id": "cd1fb18e-3a24-44e7-9371-31670450249d",
   "metadata": {},
   "source": [
    "Remove column about"
   ]
  },
  {
   "cell_type": "markdown",
   "id": "f3eca408-7e8f-42d5-bce6-7605b3be81b7",
   "metadata": {},
   "source": [
    "Add column to indicate profile girl or boy"
   ]
  },
  {
   "cell_type": "code",
   "execution_count": null,
   "id": "94115ab3-27e9-4c42-8d03-23119c5eee39",
   "metadata": {},
   "outputs": [],
   "source": [
    "https://fr1.ecdn2.bumbcdn.com/i/big/assets/bumble_lifestyle_badges/normal/web/standard/sz___size__/ic_badge_profileChips_dating_heightv2.png\n",
    "\n",
    "https://fr1.ecdn2.bumbcdn.com/i/big/assets/bumble_lifestyle_badges/normal/web/standard/sz___size__/ic_badge_profileChips_dating_exercisev2.png\n",
    "\n",
    "\n",
    "\n",
    "<div class=\"pill\" data-qa-role=\"pill\"><div class=\"pill__image-box\"><img class=\"pill__image\" src=\"//fr1.ecdn2.bumbcdn.com/i/big/assets/bumble_lifestyle_badges/normal/web/standard/sz___size__/ic_badge_profileChips_dating_heightv2.png\" alt=\"184 cm\"></div><div class=\"pill__title\" dir=\"auto\"><div class=\"p-3 text-ellipsis font-weight-medium\">184 cm</div></div></div>"
   ]
  }
 ],
 "metadata": {
  "kernelspec": {
   "display_name": "finalenv",
   "language": "python",
   "name": "finalenv"
  },
  "language_info": {
   "codemirror_mode": {
    "name": "ipython",
    "version": 3
   },
   "file_extension": ".py",
   "mimetype": "text/x-python",
   "name": "python",
   "nbconvert_exporter": "python",
   "pygments_lexer": "ipython3",
   "version": "3.11.7"
  }
 },
 "nbformat": 4,
 "nbformat_minor": 5
}
