{
 "cells": [
  {
   "cell_type": "code",
   "execution_count": 1,
   "id": "e9a40544-8148-46f1-a297-153b7137e9a3",
   "metadata": {},
   "outputs": [],
   "source": [
    "import requests\n",
    "from bs4 import BeautifulSoup\n",
    "import pandas as pd\n",
    "import re\n",
    "from selenium import webdriver\n",
    "from selenium.webdriver.common.by import By\n",
    "from selenium.webdriver.common.keys import Keys\n",
    "from selenium.webdriver.support.ui import WebDriverWait\n",
    "from selenium.webdriver.support import expected_conditions as EC\n",
    "import time"
   ]
  },
  {
   "cell_type": "code",
   "execution_count": null,
   "id": "44a2686d-befa-49f6-95cd-2b20bbddb392",
   "metadata": {},
   "outputs": [],
   "source": [
    "# Inicializar WebDriver\n",
    "driver = webdriver.Chrome()\n",
    "\n",
    "# Abrir la página de Bumble\n",
    "driver.get(\"https://tinder.com/app/recs\")"
   ]
  },
  {
   "cell_type": "code",
   "execution_count": null,
   "id": "003748d5-71a9-495a-85d4-06094eef3ce2",
   "metadata": {},
   "outputs": [],
   "source": [
    "page_source = driver.page_source\n",
    "profile = BeautifulSoup(page_source, 'html.parser')"
   ]
  },
  {
   "cell_type": "code",
   "execution_count": null,
   "id": "1b3ce621-8911-4834-9185-a59a49f06baf",
   "metadata": {},
   "outputs": [],
   "source": [
    "name = profile.find(\"h1\", class_=\"Typs(display-1-strong) Fxs(1) Fxw(w) Pend(8px) M(0) D(i)\").text\n",
    "age = profile.find(\"span\", class_=\"Whs(nw) Typs(display-2-strong)\").text\n",
    "location = profile.find(\"div\", class_=\"Us(t) Va(m) D(ib) NetWidth(100%,20px) C($c-ds-text-secondary) Ell\").text  \n",
    "intention = profile.find(\"div\", class_=\"Typs(subheading-1) CenterAlign\").text  \n",
    "passions = profile.find(\"div\", class_=\"Pt(16px)\").text \n",
    "lifestyle = profile.find(\"div\", class_=\"Pt(16px)\").text  \n",
    "\n",
    "\n",
    "\n"
   ]
  }
 ],
 "metadata": {
  "kernelspec": {
   "display_name": "finalenv",
   "language": "python",
   "name": "finalenv"
  },
  "language_info": {
   "codemirror_mode": {
    "name": "ipython",
    "version": 3
   },
   "file_extension": ".py",
   "mimetype": "text/x-python",
   "name": "python",
   "nbconvert_exporter": "python",
   "pygments_lexer": "ipython3",
   "version": "3.11.7"
  }
 },
 "nbformat": 4,
 "nbformat_minor": 5
}
